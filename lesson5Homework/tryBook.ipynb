{
 "cells": [
  {
   "cell_type": "markdown",
   "metadata": {},
   "source": [
    "Exceptions"
   ]
  },
  {
   "cell_type": "markdown",
   "metadata": {},
   "source": [
    "1"
   ]
  },
  {
   "cell_type": "code",
   "execution_count": null,
   "metadata": {},
   "outputs": [],
   "source": [
    "def divition(a:int,b:int):\n",
    "    try:\n",
    "        print(\"Result:\",a/b)\n",
    "    except ZeroDivisionError:\n",
    "        print(\"You cannot divide by zero!\")\n",
    "n = 100\n",
    "k = 0\n",
    "divition(n,k)"
   ]
  },
  {
   "cell_type": "markdown",
   "metadata": {},
   "source": [
    "2"
   ]
  },
  {
   "cell_type": "code",
   "execution_count": null,
   "metadata": {},
   "outputs": [],
   "source": [
    "def inputNum():\n",
    "    try:\n",
    "        a = int(input(\"Enter a number:\"))\n",
    "    except:\n",
    "        print(\"You didn't enter a number!\")\n",
    "\n",
    "\n",
    "inputNum()"
   ]
  },
  {
   "cell_type": "markdown",
   "metadata": {},
   "source": [
    "3"
   ]
  },
  {
   "cell_type": "code",
   "execution_count": 3,
   "metadata": {},
   "outputs": [
    {
     "name": "stdout",
     "output_type": "stream",
     "text": [
      "Error: File not exists\n"
     ]
    }
   ],
   "source": [
    "def openingAFile(name:str):\n",
    "    try:\n",
    "        File = open(name, 'rt')\n",
    "        print(File.read())\n",
    "    except FileNotFoundError:\n",
    "        print(\"Error: File not exists\")\n",
    "\n",
    "a = input(\"Enter file name: \")+\".txt\"\n",
    "openingAFile(a)"
   ]
  },
  {
   "cell_type": "markdown",
   "metadata": {},
   "source": [
    "4"
   ]
  },
  {
   "cell_type": "code",
   "execution_count": 6,
   "metadata": {},
   "outputs": [
    {
     "name": "stdout",
     "output_type": "stream",
     "text": [
      "Error: one of the variables is not a number!\n"
     ]
    }
   ],
   "source": [
    "def operation(a:int, b:int):\n",
    "    try: \n",
    "        print(\"Divition of a by b:\",a/b)\n",
    "    except TypeError:\n",
    "        print(\"Error: one of the variables is not a number!\")\n",
    "\n",
    "c=2009\n",
    "d=\"4\"\n",
    "operation(c,d)"
   ]
  },
  {
   "cell_type": "markdown",
   "metadata": {},
   "source": [
    "5"
   ]
  },
  {
   "cell_type": "code",
   "execution_count": null,
   "metadata": {},
   "outputs": [],
   "source": [
    "def openingAFile(name:str):\n",
    "    try:\n",
    "        File = open(name, 'rt')\n",
    "        print(File.read())\n",
    "    except PermissionError:\n",
    "        print(\"Error: File not exists\")\n",
    "\n",
    "a = input(\"Enter full file name: \")\n",
    "openingAFile(a)"
   ]
  },
  {
   "cell_type": "markdown",
   "metadata": {},
   "source": [
    "6"
   ]
  },
  {
   "cell_type": "code",
   "execution_count": 10,
   "metadata": {},
   "outputs": [
    {
     "name": "stdout",
     "output_type": "stream",
     "text": [
      "Error: index out of range!\n"
     ]
    }
   ],
   "source": [
    "def takeFromIndex(a:list,b:int):\n",
    "    try:\n",
    "        return a[b]\n",
    "    except IndexError:\n",
    "        print(\"Error: index out of range!\")\n",
    "\n",
    "l=[i for i in range(10)]\n",
    "n=10\n",
    "takeFromIndex(l,n) "
   ]
  },
  {
   "cell_type": "markdown",
   "metadata": {},
   "source": [
    "7"
   ]
  },
  {
   "cell_type": "code",
   "execution_count": 17,
   "metadata": {},
   "outputs": [],
   "source": [
    "def inputNum():\n",
    "    try:\n",
    "        a = input(\"Enter a number:\")\n",
    "    except KeyboardInterrupt:\n",
    "        print(\"Error: input is cancelled!\")\n",
    "\n",
    "\n",
    "inputNum()"
   ]
  },
  {
   "cell_type": "markdown",
   "metadata": {},
   "source": [
    "8"
   ]
  },
  {
   "cell_type": "code",
   "execution_count": 18,
   "metadata": {},
   "outputs": [
    {
     "name": "stdout",
     "output_type": "stream",
     "text": [
      "Divition of a by b: 0.75\n"
     ]
    }
   ],
   "source": [
    "def operation(a:int, b:int):\n",
    "    try: \n",
    "        print(\"Divition of a by b:\",a/b)\n",
    "    except ArithmeticError:\n",
    "        print(\"Error: one of the variables is not a number!\")\n",
    "\n",
    "c=int(input())\n",
    "d=int(input())\n",
    "operation(c,d)"
   ]
  },
  {
   "cell_type": "markdown",
   "metadata": {},
   "source": [
    "9"
   ]
  },
  {
   "cell_type": "code",
   "execution_count": null,
   "metadata": {},
   "outputs": [],
   "source": [
    "def decoding(a:str):\n",
    "    try:\n",
    "        a.decode('utf-8')\n",
    "    except UnicodeDecodeError:\n",
    "        print(\"Error: cannot decode!\")\n",
    "\n",
    "s= input()"
   ]
  },
  {
   "cell_type": "markdown",
   "metadata": {},
   "source": [
    "10"
   ]
  },
  {
   "cell_type": "code",
   "execution_count": 22,
   "metadata": {},
   "outputs": [
    {
     "name": "stdout",
     "output_type": "stream",
     "text": [
      "This attribute doesnot exist!\n"
     ]
    }
   ],
   "source": [
    "try:\n",
    "    x= 2\n",
    "\n",
    "    x.append(4)\n",
    "except AttributeError:\n",
    "    print(\"This attribute doesnot exist!\")\n"
   ]
  },
  {
   "cell_type": "markdown",
   "metadata": {},
   "source": [
    "FILE handling"
   ]
  },
  {
   "cell_type": "markdown",
   "metadata": {},
   "source": [
    "1"
   ]
  },
  {
   "cell_type": "code",
   "execution_count": null,
   "metadata": {},
   "outputs": [],
   "source": [
    "filename = input()\n",
    "file = open(filename, 'rt')\n",
    "print(file.read())\n",
    "file.close()"
   ]
  },
  {
   "cell_type": "markdown",
   "metadata": {},
   "source": [
    "2"
   ]
  },
  {
   "cell_type": "code",
   "execution_count": null,
   "metadata": {},
   "outputs": [],
   "source": [
    "filename = input()\n",
    "n= int(input())\n",
    "file = open(filename, 'rt')\n",
    "for i in range(n):    \n",
    "    print(file.readline())\n",
    "file.close()"
   ]
  },
  {
   "cell_type": "markdown",
   "metadata": {},
   "source": [
    "3"
   ]
  },
  {
   "cell_type": "code",
   "execution_count": null,
   "metadata": {},
   "outputs": [],
   "source": [
    "filename = input()\n",
    "file = open(filename, 'at')\n",
    "appendingline = input()\n",
    "file.append(appendingline)\n",
    "file.close()\n",
    "file = open(filename, 'rt')\n",
    "print(file.read())"
   ]
  },
  {
   "cell_type": "markdown",
   "metadata": {},
   "source": [
    "4"
   ]
  },
  {
   "cell_type": "code",
   "execution_count": 7,
   "metadata": {},
   "outputs": [
    {
     "name": "stdout",
     "output_type": "stream",
     "text": [
      "k = 0\n",
      "\n",
      "divition(n,k)\n"
     ]
    }
   ],
   "source": [
    "filename = input()\n",
    "n= int(input())\n",
    "file = open(filename, 'rt')\n",
    "l=file.readlines()\n",
    "for i in range(len(l)-n,len(l)):    \n",
    "    print(l[i])\n",
    "file.close()"
   ]
  },
  {
   "cell_type": "markdown",
   "metadata": {},
   "source": [
    "5"
   ]
  },
  {
   "cell_type": "code",
   "execution_count": null,
   "metadata": {},
   "outputs": [],
   "source": [
    "l=[]\n",
    "filename=input()\n",
    "with open(filename,'rt') as f:\n",
    "    for line in f:\n",
    "        l.append(f.readline())\n",
    "print(l)"
   ]
  },
  {
   "cell_type": "markdown",
   "metadata": {},
   "source": [
    "6"
   ]
  },
  {
   "cell_type": "code",
   "execution_count": null,
   "metadata": {},
   "outputs": [
    {
     "name": "stdout",
     "output_type": "stream",
     "text": [
      "[['def divition(a:int,b:int):\\n', '    try:\\n', '        print(\"Result:\",a/b)\\n', '    except ZeroDivisionError:\\n', '        print(\"You cannot divide by zero!\")\\n', 'n = 100\\n', 'k = 0\\n', 'divition(n,k)']]\n"
     ]
    }
   ],
   "source": [
    "filename = input()\n",
    "file = open(filename, 'rt')\n",
    "while not file.eof():    \n",
    "    l = file.readline()\n",
    "    print(l)\n",
    "file.close()"
   ]
  },
  {
   "cell_type": "markdown",
   "metadata": {},
   "source": [
    "7"
   ]
  },
  {
   "cell_type": "code",
   "execution_count": null,
   "metadata": {},
   "outputs": [],
   "source": [
    "l=[]\n",
    "filename=input()\n",
    "with open(filename,'rt') as f:\n",
    "    for line in f:\n",
    "        l.append(f.readline())\n",
    "print(l)"
   ]
  },
  {
   "cell_type": "markdown",
   "metadata": {},
   "source": [
    "8"
   ]
  },
  {
   "cell_type": "code",
   "execution_count": null,
   "metadata": {},
   "outputs": [
    {
     "name": "stdout",
     "output_type": "stream",
     "text": [
      "ertafdf\n",
      "['1', '2', '3', 'weradf', '4', '5', 'ertafdf', '6', 'e', '6', '7', '8', '9', '6', '788', '7774']\n"
     ]
    }
   ],
   "source": [
    "l=[]\n",
    "filename=input()\n",
    "with open(filename,'rt') as f:\n",
    "    data = f.read()\n",
    "    l=data.split()\n",
    "    M=len(l[0])\n",
    "    i=0\n",
    "    for line in range(len(l)):\n",
    "        if M<len(l[line]):\n",
    "            M = len(l[line])\n",
    "            i=line\n",
    "print(l[i])"
   ]
  },
  {
   "cell_type": "markdown",
   "metadata": {},
   "source": [
    "9"
   ]
  },
  {
   "cell_type": "code",
   "execution_count": 28,
   "metadata": {},
   "outputs": [
    {
     "name": "stdout",
     "output_type": "stream",
     "text": [
      "16\n"
     ]
    }
   ],
   "source": [
    "l=[]\n",
    "filename=input()\n",
    "with open(filename,'rt') as f:\n",
    "    data = f.read()\n",
    "    l=data.split()\n",
    "    \n",
    "print(len(l))"
   ]
  },
  {
   "cell_type": "markdown",
   "metadata": {},
   "source": [
    "10"
   ]
  },
  {
   "cell_type": "code",
   "execution_count": null,
   "metadata": {},
   "outputs": [
    {
     "name": "stdout",
     "output_type": "stream",
     "text": [
      "3\n"
     ]
    }
   ],
   "source": [
    "from collections import Counter\n",
    "def word_count(fname):\n",
    "        with open(fname) as f:\n",
    "                return Counter(f.read().split())\n",
    "print(\"Number of words in the file :\",word_count(\"test.txt\"))"
   ]
  },
  {
   "cell_type": "markdown",
   "metadata": {},
   "source": [
    "11"
   ]
  },
  {
   "cell_type": "code",
   "execution_count": null,
   "metadata": {},
   "outputs": [
    {
     "name": "stdout",
     "output_type": "stream",
     "text": [
      "392\n"
     ]
    }
   ],
   "source": [
    "def file_size(fname):\n",
    "    with open(fname) as f:\n",
    "        data= f.read()\n",
    "        size= len(data)*8\n",
    "        return size\n",
    "file=input()\n",
    "print(file_size(file))"
   ]
  },
  {
   "cell_type": "markdown",
   "metadata": {},
   "source": [
    "12"
   ]
  },
  {
   "cell_type": "code",
   "execution_count": null,
   "metadata": {},
   "outputs": [
    {
     "name": "stdout",
     "output_type": "stream",
     "text": [
      "['12345667899']\n"
     ]
    }
   ],
   "source": [
    "def write_list_ToFile(fname:str, l1:list):\n",
    "    with open(fname, 'wr') as f:\n",
    "        for i in range(len(l1)):\n",
    "            f.write(str(l1[i]))\n",
    "        data = f.readlines()\n",
    "        return data\n",
    "name=input()\n",
    "list1 = [1,2,3,4,5,6,6,7,8,9,9]\n",
    "print(write_list_ToFile(name, list1))"
   ]
  },
  {
   "cell_type": "markdown",
   "metadata": {},
   "source": [
    "13"
   ]
  },
  {
   "cell_type": "code",
   "execution_count": 43,
   "metadata": {},
   "outputs": [
    {
     "name": "stdout",
     "output_type": "stream",
     "text": [
      "1\n",
      "2\n",
      "3 weradf\n",
      "4\n",
      "5 ertafdf\n",
      "6 e\n",
      "6\n",
      "7\n",
      "8\n",
      "9\n",
      "6 \n",
      " 788 7774\n"
     ]
    }
   ],
   "source": [
    "def copy_file(fname:str, sname):\n",
    "    with open(fname, 'r') as f:\n",
    "        data = f.readlines()\n",
    "    with open(sname, 'a') as s:\n",
    "        for i in data:\n",
    "            s.write(i)\n",
    "    with open(sname, 'r') as s:\n",
    "        data1= s.read()\n",
    "    \n",
    "    print(data1)\n",
    "name1=input()\n",
    "name2=input()\n",
    "copy_file(name1, name2)"
   ]
  },
  {
   "cell_type": "markdown",
   "metadata": {},
   "source": [
    "14"
   ]
  },
  {
   "cell_type": "code",
   "execution_count": null,
   "metadata": {},
   "outputs": [],
   "source": [
    "name1=input()\n",
    "name2=input()\n",
    "f1=open(name1, 'r')\n",
    "f2=open(name2, 'r')\n",
    "l1=f1.readlines()\n",
    "l2=f2.readlines()\n",
    "l3=[]\n",
    "for i in range(len(l1)):\n",
    "    l3[i]=l1[i]+l2[i]\n",
    "f2.close()\n",
    "f2=open(name2, 'w')\n",
    "for i in range(len(l3)):\n",
    "    f2.write(l3[i])\n",
    "f1.close()\n",
    "f2.close()"
   ]
  },
  {
   "cell_type": "markdown",
   "metadata": {},
   "source": [
    "15"
   ]
  },
  {
   "cell_type": "code",
   "execution_count": 44,
   "metadata": {},
   "outputs": [
    {
     "name": "stdout",
     "output_type": "stream",
     "text": [
      "3 weradf\n",
      "\n"
     ]
    }
   ],
   "source": [
    "# import random\n",
    "import random\n",
    "def random_line(fname):\n",
    "    with open(fname,'r') as f:\n",
    "        list1 = f.readlines()\n",
    "        print(random.choice(list1))\n",
    "name1=input()\n",
    "random_line(name1)"
   ]
  },
  {
   "cell_type": "markdown",
   "metadata": {},
   "source": [
    "16"
   ]
  },
  {
   "cell_type": "code",
   "execution_count": null,
   "metadata": {},
   "outputs": [],
   "source": [
    "name = input()\n",
    "f = open(name,'r')\n",
    "print(f.closed)\n",
    "f.close()\n",
    "print(f.closed)"
   ]
  },
  {
   "cell_type": "markdown",
   "metadata": {},
   "source": [
    "17"
   ]
  },
  {
   "cell_type": "code",
   "execution_count": null,
   "metadata": {},
   "outputs": [],
   "source": [
    "def remove_newlines(fname):\n",
    "    flist = open(fname).readlines()\n",
    "    return [s.rstrip('\\n') for s in flist]\n",
    "print(remove_newlines(\"test.txt\"))"
   ]
  },
  {
   "cell_type": "markdown",
   "metadata": {},
   "source": [
    "18"
   ]
  },
  {
   "cell_type": "code",
   "execution_count": null,
   "metadata": {},
   "outputs": [],
   "source": [
    "def count_words(filepath):\n",
    "   with open(filepath) as f:\n",
    "       data = f.read()\n",
    "       data.replace(\",\", \" \")\n",
    "       return len(data.split(\" \"))\n",
    "print(count_words(\"words.txt\"))"
   ]
  },
  {
   "cell_type": "markdown",
   "metadata": {},
   "source": [
    "19"
   ]
  },
  {
   "cell_type": "code",
   "execution_count": null,
   "metadata": {},
   "outputs": [],
   "source": [
    "import glob\n",
    "char_list = []\n",
    "files_list = glob.glob(\"*.txt\")\n",
    "for file_elem in files_list:\n",
    "   with open(file_elem, \"r\") as f:\n",
    "       char_list.append(f.read())\n",
    "print(char_list)"
   ]
  },
  {
   "cell_type": "markdown",
   "metadata": {},
   "source": [
    "20"
   ]
  },
  {
   "cell_type": "code",
   "execution_count": null,
   "metadata": {},
   "outputs": [],
   "source": [
    "import os\n",
    "if not os.path.exists(\"letters\"):\n",
    "    os.makedirs(\"letters\")\n",
    "\n",
    "for i in range(65, 91): \n",
    "    letter = chr(i) \n",
    "    with open(f\"letters/{letter}.txt\", \"w\") as f:\n",
    "        f.write(letter)"
   ]
  },
  {
   "cell_type": "markdown",
   "metadata": {},
   "source": [
    "21"
   ]
  },
  {
   "cell_type": "code",
   "execution_count": null,
   "metadata": {},
   "outputs": [],
   "source": [
    "letters_per_line = 5 \n",
    "with open(\"alphabet.txt\", \"w\") as f:\n",
    "    for i in range(65, 91): \n",
    "        letter = chr(i)  \n",
    "        f.write(letter)\n",
    "        if (i - 64) % letters_per_line == 0:\n",
    "            f.write('\\n')"
   ]
  },
  {
   "cell_type": "markdown",
   "metadata": {},
   "source": [
    "# Objects"
   ]
  },
  {
   "cell_type": "markdown",
   "metadata": {},
   "source": [
    "### Car class"
   ]
  },
  {
   "cell_type": "code",
   "execution_count": null,
   "metadata": {},
   "outputs": [],
   "source": [
    "class Car:\n",
    "    def __init__(self, yearModel, make):\n",
    "        self.yearModel = yearModel\n",
    "        self.make = make\n",
    "        self.speed = 0\n",
    "    def accelerate(self):\n",
    "        self.speed += 5\n",
    "\n",
    "    def brake(self):\n",
    "        self.speed -= 5\n",
    "\n",
    "    def get_speed(self):\n",
    "        return self.speed\n",
    "\n",
    "def main():\n",
    "    my_car = Car(2020, \"Toyota\")\n",
    "    print(\"Accelerating:\")\n",
    "    for _ in range(5):\n",
    "        my_car.accelerate()\n",
    "        print(f\"Current speed: {my_car.get_speed()} mph\")\n",
    "    print(\"\\nBraking:\")\n",
    "    for _ in range(5):\n",
    "        my_car.brake()\n",
    "        print(f\"Current speed: {my_car.get_speed()} mph\")\n",
    "if __name__ == \"__main__\":\n",
    "    main()\n"
   ]
  }
 ],
 "metadata": {
  "kernelspec": {
   "display_name": "Python 3",
   "language": "python",
   "name": "python3"
  },
  "language_info": {
   "codemirror_mode": {
    "name": "ipython",
    "version": 3
   },
   "file_extension": ".py",
   "mimetype": "text/x-python",
   "name": "python",
   "nbconvert_exporter": "python",
   "pygments_lexer": "ipython3",
   "version": "3.12.7"
  }
 },
 "nbformat": 4,
 "nbformat_minor": 2
}
