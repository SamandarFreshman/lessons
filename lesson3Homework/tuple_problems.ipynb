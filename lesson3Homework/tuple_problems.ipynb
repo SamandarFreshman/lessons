{
 "cells": [
  {
   "cell_type": "code",
   "execution_count": 3,
   "metadata": {},
   "outputs": [
    {
     "name": "stdout",
     "output_type": "stream",
     "text": [
      "2\n"
     ]
    }
   ],
   "source": [
    "#1\n",
    "\n",
    "tuple1 = tuple(item for item in input(\"Enter the list items : \").split())\n",
    "search = input()\n",
    "count=0\n",
    "for i in range(0,len(tuple1)):\n",
    "    if tuple1[i]==search:\n",
    "        count+=1\n",
    "print(count)"
   ]
  },
  {
   "cell_type": "code",
   "execution_count": null,
   "metadata": {},
   "outputs": [],
   "source": [
    "tuple1 = tuple(item for item in input(\"Enter the list items : \").split())\n",
    "print(max(tuple1))"
   ]
  },
  {
   "cell_type": "code",
   "execution_count": null,
   "metadata": {},
   "outputs": [],
   "source": [
    "tuple1 = tuple(item for item in input(\"Enter the list items : \").split())\n",
    "print(min(tuple1))"
   ]
  },
  {
   "cell_type": "code",
   "execution_count": null,
   "metadata": {},
   "outputs": [],
   "source": [
    "tuple1 = tuple(item for item in input(\"Enter the list items : \").split())\n",
    "search = input()\n",
    "print(search in tuple1)"
   ]
  },
  {
   "cell_type": "code",
   "execution_count": null,
   "metadata": {},
   "outputs": [],
   "source": [
    "tuple1 = tuple(item for item in input(\"Enter the list items : \").split())\n",
    "if len(tuple1)==0:\n",
    "    print(\"List is emptry\")\n",
    "else:\n",
    "    print(tuple1[0])"
   ]
  },
  {
   "cell_type": "code",
   "execution_count": null,
   "metadata": {},
   "outputs": [],
   "source": [
    "tuple1 = tuple(item for item in input(\"Enter the list items : \").split())\n",
    "if len(tuple1)==0:\n",
    "    print(\"List is emptry\")\n",
    "else:\n",
    "    print(tuple1[-1])"
   ]
  },
  {
   "cell_type": "code",
   "execution_count": null,
   "metadata": {},
   "outputs": [],
   "source": [
    "tuple1 = tuple(item for item in input(\"Enter the list items : \").split())\n",
    "print(len(tuple1))"
   ]
  },
  {
   "cell_type": "code",
   "execution_count": null,
   "metadata": {},
   "outputs": [],
   "source": [
    "tuple1 = tuple(item for item in input(\"Enter the list items : \").split())\n",
    "tuple2 = tuple1[:3]\n",
    "print(tuple2)"
   ]
  },
  {
   "cell_type": "code",
   "execution_count": null,
   "metadata": {},
   "outputs": [],
   "source": [
    "tuple1 = tuple(item for item in input(\"Enter the list items : \").split())\n",
    "tuple2 = tuple(item for item in input(\"Enter the list items : \").split())\n",
    "tuple3 = tuple(list(tuple1)+list(tuple2))\n",
    "print(tuple3)"
   ]
  },
  {
   "cell_type": "code",
   "execution_count": null,
   "metadata": {},
   "outputs": [],
   "source": [
    "tuple1 = tuple(item for item in input(\"Enter the list items : \").split())\n",
    "e = input()\n",
    "for i in range(len(tuple1)):\n",
    "    if e==tuple1[i]:\n",
    "        print(i+1,end=' ')"
   ]
  },
  {
   "cell_type": "code",
   "execution_count": null,
   "metadata": {},
   "outputs": [],
   "source": [
    "tuple1 = tuple(item for item in input(\"Enter the list items : \").split())\n",
    "tuple1= tuple(list(dict.fromkeys(tuple1)).sort())\n",
    "print(tuple1[-2])"
   ]
  },
  {
   "cell_type": "code",
   "execution_count": null,
   "metadata": {},
   "outputs": [],
   "source": [
    "tuple1 = tuple(item for item in input(\"Enter the list items : \").split())\n",
    "tuple1= tuple(list(dict.fromkeys(tuple1)).sort())\n",
    "print(tuple1[1])"
   ]
  },
  {
   "cell_type": "code",
   "execution_count": 6,
   "metadata": {},
   "outputs": [
    {
     "name": "stdout",
     "output_type": "stream",
     "text": [
      "('1',)\n"
     ]
    }
   ],
   "source": [
    "tuple1 = tuple(input(\"Enter the list items : \"))\n",
    "print(tuple1)"
   ]
  },
  {
   "cell_type": "code",
   "execution_count": null,
   "metadata": {},
   "outputs": [],
   "source": [
    "list1 = []\n",
    "list1 = [item for item in input(\"Enter the list items : \").split()]\n",
    "tuple1 = list1"
   ]
  },
  {
   "cell_type": "code",
   "execution_count": 9,
   "metadata": {},
   "outputs": [
    {
     "name": "stdout",
     "output_type": "stream",
     "text": [
      "unsorted\n"
     ]
    }
   ],
   "source": [
    "tuple1 = tuple(item for item in input(\"Enter the list items : \").split())\n",
    "for i in range(len(tuple1)-2):\n",
    "    if tuple1[i]>tuple1[i+1]:\n",
    "        print(\"unsorted\")"
   ]
  },
  {
   "cell_type": "code",
   "execution_count": 8,
   "metadata": {},
   "outputs": [
    {
     "name": "stdout",
     "output_type": "stream",
     "text": [
      "6\n"
     ]
    }
   ],
   "source": [
    "tuple1 = tuple(item for item in input(\"Enter the list items : \").split())\n",
    "n = int(input(\"Lower boundary of sublist:\"))\n",
    "m = int(input(\"Higher boundary of sublist:\"))\n",
    "tuple2 = tuple1[n:m+1]\n",
    "print(max(tuple2))"
   ]
  },
  {
   "cell_type": "code",
   "execution_count": null,
   "metadata": {},
   "outputs": [],
   "source": [
    "tuple1 = tuple(item for item in input(\"Enter the list items : \").split())\n",
    "n = int(input(\"Lower boundary of sublist:\"))\n",
    "m = int(input(\"Higher boundary of sublist:\"))\n",
    "tuple2 = tuple1[n:m+1]\n",
    "print(min(tuple2))"
   ]
  },
  {
   "cell_type": "code",
   "execution_count": null,
   "metadata": {},
   "outputs": [],
   "source": [
    "tuple1 = tuple(item for item in input(\"Enter the list items : \").split())\n",
    "list1=list(tuple1)\n",
    "indexremove = int(input(\"Enter index of object to remove\"))-1\n",
    "list1.remove(list1[indexremove])\n",
    "tuple1=tuple(list1)\n",
    "print(tuple1)"
   ]
  },
  {
   "cell_type": "code",
   "execution_count": null,
   "metadata": {},
   "outputs": [],
   "source": [
    "tuple1 = tuple(item for item in input(\"Enter the list items : \").split())"
   ]
  },
  {
   "cell_type": "code",
   "execution_count": null,
   "metadata": {},
   "outputs": [],
   "source": [
    "tuple1 = tuple(item for item in input(\"Enter the list items : \").split())\n",
    "list1=list(tuple1)\n",
    "list2 = []\n",
    "n = int(input())\n",
    "for i in range(1,n):\n",
    "    list2+=list1\n",
    "tuple1=list2\n",
    "print(tuple1)"
   ]
  },
  {
   "cell_type": "code",
   "execution_count": 10,
   "metadata": {},
   "outputs": [
    {
     "name": "stdout",
     "output_type": "stream",
     "text": [
      "(' ', ' ')\n"
     ]
    }
   ],
   "source": [
    "n = int(input())\n",
    "tuple1=tuple(' ' for i in range(n))\n",
    "print(tuple1)"
   ]
  },
  {
   "cell_type": "code",
   "execution_count": 12,
   "metadata": {},
   "outputs": [
    {
     "name": "stdout",
     "output_type": "stream",
     "text": [
      "('4', '3', '2', '1')\n"
     ]
    }
   ],
   "source": [
    "tuple1 = tuple(item for item in input(\"Enter the list items : \").split())\n",
    "\n",
    "tuple1 = tuple1[::-1]\n",
    "print(tuple1)"
   ]
  },
  {
   "cell_type": "code",
   "execution_count": null,
   "metadata": {},
   "outputs": [],
   "source": [
    "tuple1 = tuple(item for item in input(\"Enter the list items : \").split())\n",
    "for i in range(len(tuple1)):\n",
    "    if str(tuple1[i])==str(tuple1[i]).reverse():\n",
    "        print(True)"
   ]
  },
  {
   "cell_type": "code",
   "execution_count": null,
   "metadata": {},
   "outputs": [],
   "source": [
    "tuple1 = tuple(item for item in input(\"Enter the list items : \").split())\n",
    "tuple1 = tuple(dict.fromkeys(tuple1))\n",
    "print(tuple1)"
   ]
  }
 ],
 "metadata": {
  "kernelspec": {
   "display_name": "Python 3",
   "language": "python",
   "name": "python3"
  },
  "language_info": {
   "codemirror_mode": {
    "name": "ipython",
    "version": 3
   },
   "file_extension": ".py",
   "mimetype": "text/x-python",
   "name": "python",
   "nbconvert_exporter": "python",
   "pygments_lexer": "ipython3",
   "version": "3.12.7"
  }
 },
 "nbformat": 4,
 "nbformat_minor": 2
}
