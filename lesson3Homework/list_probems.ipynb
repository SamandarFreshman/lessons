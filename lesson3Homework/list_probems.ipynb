{
 "cells": [
  {
   "cell_type": "markdown",
   "metadata": {},
   "source": [
    "# Count occurrences:"
   ]
  },
  {
   "cell_type": "code",
   "execution_count": null,
   "metadata": {},
   "outputs": [],
   "source": [
    "list1 = []\n",
    "list1 = [item for item in input(\"Enter the list items : \").split()]\n",
    "search = input()\n",
    "count=0\n",
    "for i in range(0,len(list1)):\n",
    "    if list1[i]==search:\n",
    "        count+=1\n",
    "print(count)"
   ]
  },
  {
   "cell_type": "markdown",
   "metadata": {},
   "source": [
    "# sum of elements:"
   ]
  },
  {
   "cell_type": "code",
   "execution_count": null,
   "metadata": {},
   "outputs": [],
   "source": [
    "list1 = []\n",
    "list1 = [int(item) for item in input(\"Enter the list items : \").split()]\n",
    "print(sum(list1))"
   ]
  },
  {
   "cell_type": "markdown",
   "metadata": {},
   "source": [
    "# max element:"
   ]
  },
  {
   "cell_type": "code",
   "execution_count": null,
   "metadata": {},
   "outputs": [],
   "source": [
    "list1 = []\n",
    "list1 = [int(item) for item in input(\"Enter the list items : \").split()]\n",
    "print(max(list1))"
   ]
  },
  {
   "cell_type": "markdown",
   "metadata": {},
   "source": [
    "# min element:"
   ]
  },
  {
   "cell_type": "code",
   "execution_count": null,
   "metadata": {},
   "outputs": [],
   "source": [
    "list1 = []\n",
    "list1 = [int(item) for item in input(\"Enter the list items : \").split()]\n",
    "print(min(list1))"
   ]
  },
  {
   "cell_type": "markdown",
   "metadata": {},
   "source": [
    "# check element"
   ]
  },
  {
   "cell_type": "code",
   "execution_count": null,
   "metadata": {},
   "outputs": [],
   "source": [
    "list1 = []\n",
    "list1 = [item for item in input(\"Enter the list items : \").split()]\n",
    "search = input()\n",
    "print(search in list1)"
   ]
  },
  {
   "cell_type": "markdown",
   "metadata": {},
   "source": [
    "# First element"
   ]
  },
  {
   "cell_type": "code",
   "execution_count": null,
   "metadata": {},
   "outputs": [],
   "source": [
    "list1 = []\n",
    "list1 = [item for item in input(\"Enter the list items : \").split()]\n",
    "if len(list1)==0:\n",
    "    print(\"List is emptry\")\n",
    "else:\n",
    "    print(list1[0])"
   ]
  },
  {
   "cell_type": "markdown",
   "metadata": {},
   "source": [
    "# Last element"
   ]
  },
  {
   "cell_type": "code",
   "execution_count": null,
   "metadata": {},
   "outputs": [],
   "source": [
    "list1 = []\n",
    "list1 = [item for item in input(\"Enter the list items : \").split()]\n",
    "if len(list1)==0:\n",
    "    print(\"List is emptry\")\n",
    "else:\n",
    "    print(list1[-1])"
   ]
  },
  {
   "cell_type": "markdown",
   "metadata": {},
   "source": [
    "# slice list"
   ]
  },
  {
   "cell_type": "code",
   "execution_count": null,
   "metadata": {},
   "outputs": [],
   "source": [
    "list1 = []\n",
    "list1 = [item for item in input(\"Enter the list items : \").split()]\n",
    "list2 = list1[:3]\n",
    "print(list2)"
   ]
  },
  {
   "cell_type": "markdown",
   "metadata": {},
   "source": [
    "# reverse list"
   ]
  },
  {
   "cell_type": "code",
   "execution_count": null,
   "metadata": {},
   "outputs": [],
   "source": [
    "list1 = []\n",
    "list1 = [item for item in input(\"Enter the list items : \").split()]\n",
    "list2 = list1.reverse()\n",
    "print(list2)"
   ]
  },
  {
   "cell_type": "code",
   "execution_count": null,
   "metadata": {},
   "outputs": [],
   "source": [
    "list1 = []\n",
    "list1 = [item for item in input(\"Enter the list items : \").split()]\n",
    "list2 = list1[::-1]\n",
    "print(list2)"
   ]
  },
  {
   "cell_type": "markdown",
   "metadata": {},
   "source": [
    "# sort list"
   ]
  },
  {
   "cell_type": "code",
   "execution_count": null,
   "metadata": {},
   "outputs": [],
   "source": [
    "list1 = []\n",
    "list1 = [item for item in input(\"Enter the list items : \").split()]\n",
    "list1.sort()\n",
    "print(list1)"
   ]
  },
  {
   "cell_type": "markdown",
   "metadata": {},
   "source": [
    "# remove duplicates"
   ]
  },
  {
   "cell_type": "code",
   "execution_count": null,
   "metadata": {},
   "outputs": [],
   "source": [
    "list1 = []\n",
    "list1 = [item for item in input(\"Enter the list items : \").split()]\n",
    "list1 = list(dict.fromkeys(list1))\n",
    "print(list1)"
   ]
  },
  {
   "cell_type": "markdown",
   "metadata": {},
   "source": [
    "# insert elements\n"
   ]
  },
  {
   "cell_type": "code",
   "execution_count": null,
   "metadata": {},
   "outputs": [],
   "source": [
    "list1 = []\n",
    "list1 = [item for item in input(\"Enter the list items : \").split()]\n",
    "print(list1)\n",
    "n = int(input(\"which position you want to insert\"))\n",
    "list1.append(input(\"enter item to append: \"))\n",
    "print(list1)"
   ]
  },
  {
   "cell_type": "markdown",
   "metadata": {},
   "source": [
    "# index of element"
   ]
  },
  {
   "cell_type": "code",
   "execution_count": null,
   "metadata": {},
   "outputs": [],
   "source": [
    "list1 = []\n",
    "list1 = [item for item in input(\"Enter the list items : \").split()]\n",
    "search = input()\n",
    "list1.index(search)"
   ]
  },
  {
   "cell_type": "markdown",
   "metadata": {},
   "source": [
    "# CHECK FOR empty list"
   ]
  },
  {
   "cell_type": "code",
   "execution_count": null,
   "metadata": {},
   "outputs": [],
   "source": [
    "list1 = []\n",
    "list1 = [item for item in input(\"Enter the list items : \").split()]\n",
    "if len(list1)==0:\n",
    "    print(\"empty list\")"
   ]
  },
  {
   "cell_type": "markdown",
   "metadata": {},
   "source": [
    "# count even number"
   ]
  },
  {
   "cell_type": "code",
   "execution_count": null,
   "metadata": {},
   "outputs": [],
   "source": [
    "list1 = []\n",
    "list1 = [item for item in input(\"Enter the list items : \").split()]\n",
    "count = 0\n",
    "for i in range(len(list1)):\n",
    "    if list1[i]%2==0:\n",
    "        count+=1\n",
    "print(count)"
   ]
  },
  {
   "cell_type": "markdown",
   "metadata": {},
   "source": [
    "# count of numbers"
   ]
  },
  {
   "cell_type": "code",
   "execution_count": null,
   "metadata": {},
   "outputs": [],
   "source": [
    "list1 = []\n",
    "list1 = [item for item in input(\"Enter the list items : \").split()]\n",
    "count = 0\n",
    "for i in range(len(list1)):\n",
    "    if list1[i]%2==1:\n",
    "        count+=1\n",
    "print(count)"
   ]
  },
  {
   "cell_type": "markdown",
   "metadata": {},
   "source": [
    "# concatenate lists"
   ]
  },
  {
   "cell_type": "code",
   "execution_count": null,
   "metadata": {},
   "outputs": [],
   "source": [
    "list1 = []\n",
    "list1 = [item for item in input(\"Enter the list items : \").split()]\n",
    "list2 = []\n",
    "list2 = [item for item in input(\"Enter the list items : \").split()]\n",
    "list3 = list1 + list2\n",
    "print(list3)"
   ]
  },
  {
   "cell_type": "markdown",
   "metadata": {},
   "source": [
    "# find sublist"
   ]
  },
  {
   "cell_type": "code",
   "execution_count": null,
   "metadata": {},
   "outputs": [],
   "source": [
    "list1 = []\n",
    "list1 = [item for item in input(\"Enter the list items : \").split()]\n",
    "list2 = []\n",
    "list2 = [item for item in input(\"Enter the list items : \").split()]\n",
    "notin = False\n",
    "for i in range(len(list2)):\n",
    "    if not (list2[i] in list1):\n",
    "        notin= True\n",
    "print(not notin)\n"
   ]
  },
  {
   "cell_type": "markdown",
   "metadata": {},
   "source": [
    "# replace element"
   ]
  },
  {
   "cell_type": "code",
   "execution_count": null,
   "metadata": {},
   "outputs": [],
   "source": [
    "list2 = []\n",
    "list2 = [item for item in input(\"Enter the list items : \").split()]\n",
    "n = int(input(\"Enter index of replacement: \"))\n",
    "list2.append(n,input())"
   ]
  },
  {
   "cell_type": "markdown",
   "metadata": {},
   "source": [
    "# find second largest"
   ]
  },
  {
   "cell_type": "code",
   "execution_count": null,
   "metadata": {},
   "outputs": [],
   "source": [
    "list1 = []\n",
    "list1 = [item for item in input(\"Enter the list items : \").split()]\n",
    "list1 = list(dict.fromkeys(list1))\n",
    "list1.sort()\n",
    "print(list1[-2])"
   ]
  },
  {
   "cell_type": "code",
   "execution_count": null,
   "metadata": {},
   "outputs": [],
   "source": [
    "list1 = []\n",
    "list1 = [item for item in input(\"Enter the list items : \").split()]\n",
    "list1 = list(dict.fromkeys(list1))\n",
    "list1.sort()\n",
    "print(list1[1])"
   ]
  },
  {
   "cell_type": "code",
   "execution_count": null,
   "metadata": {},
   "outputs": [],
   "source": [
    "list1 = []\n",
    "list1 = [item for item in input(\"Enter the list items : \").split()]\n",
    "list2 = []\n",
    "for i in range(len(list1)):\n",
    "    if list1[i]%2==0:\n",
    "        list2.append(list1[i])\n",
    "print(list2)"
   ]
  },
  {
   "cell_type": "code",
   "execution_count": null,
   "metadata": {},
   "outputs": [],
   "source": [
    "list1 = []\n",
    "list1 = [item for item in input(\"Enter the list items : \").split()]\n",
    "list2 = []\n",
    "for i in range(len(list1)):\n",
    "    if list1[i]%2==1:\n",
    "        list2.append(list1[i])\n",
    "print(list2)"
   ]
  },
  {
   "cell_type": "code",
   "execution_count": null,
   "metadata": {},
   "outputs": [],
   "source": [
    "list1 = []\n",
    "list1 = [item for item in input(\"Enter the list items : \").split()]\n",
    "print(len(list1))"
   ]
  },
  {
   "cell_type": "code",
   "execution_count": null,
   "metadata": {},
   "outputs": [],
   "source": [
    "list1 = []\n",
    "list1 = [item for item in input(\"Enter the list items : \").split()]\n",
    "list2 = list1\n",
    "print(list2)"
   ]
  },
  {
   "cell_type": "code",
   "execution_count": null,
   "metadata": {},
   "outputs": [],
   "source": [
    "list1 = []\n",
    "list1 = [item for item in input(\"Enter the list items : \").split()]\n",
    "m = len(list1)\n",
    "if len(list1)%2==0:\n",
    "    print(list1[m-1])\n",
    "    print(list1[m])\n",
    "else:\n",
    "    print(list1[m])\n"
   ]
  },
  {
   "cell_type": "code",
   "execution_count": null,
   "metadata": {},
   "outputs": [],
   "source": [
    "list1 = []\n",
    "list1 = [item for item in input(\"Enter the list items : \").split()]\n",
    "n = int(input(\"Lower boundary of sublist:\"))\n",
    "m = int(input(\"Higher boundary of sublist:\"))\n",
    "list2 = list1[n:m+1]\n",
    "print(max(list2))"
   ]
  },
  {
   "cell_type": "code",
   "execution_count": null,
   "metadata": {},
   "outputs": [],
   "source": [
    "list1 = []\n",
    "list1 = [item for item in input(\"Enter the list items : \").split()]\n",
    "n = int(input(\"Lower boundary of sublist:\"))\n",
    "m = int(input(\"Higher boundary of sublist:\"))\n",
    "list2 = list1[n:m+1]\n",
    "print(min(list2))"
   ]
  },
  {
   "cell_type": "code",
   "execution_count": 43,
   "metadata": {},
   "outputs": [
    {
     "name": "stdout",
     "output_type": "stream",
     "text": [
      "['2', '3', '5']\n"
     ]
    }
   ],
   "source": [
    "list1 = []\n",
    "list1 = [item for item in input(\"Enter the list items : \").split()]\n",
    "print(list1)\n",
    "indexremove = int(input(\"Enter index of object to remove\"))-1\n",
    "list1.remove(list1[indexremove])\n",
    "print(list1)"
   ]
  },
  {
   "cell_type": "code",
   "execution_count": 45,
   "metadata": {},
   "outputs": [],
   "source": [
    "list1 = []\n",
    "list1 = [item for item in input(\"Enter the list items : \").split()]\n",
    "for i in range(len(list1)-2):\n",
    "    if list1[i]>list1[i+1]:\n",
    "        print(\"unsorted\")\n"
   ]
  },
  {
   "cell_type": "code",
   "execution_count": 52,
   "metadata": {},
   "outputs": [
    {
     "name": "stdout",
     "output_type": "stream",
     "text": [
      "['1', '2', '3', '4', '1', '2', '3', '4', '1', '2', '3', '4', '1', '2', '3', '4', '1', '2', '3', '4', '1', '2', '3', '4', '1', '2', '3', '4', '1', '2', '3', '4']\n"
     ]
    }
   ],
   "source": [
    "list1 = []\n",
    "list1 = [item for item in input(\"Enter the list items : \").split()]\n",
    "list2 = []\n",
    "n = int(input())\n",
    "for i in range(1,n):\n",
    "    list2+=list1\n",
    "print(list2)"
   ]
  },
  {
   "cell_type": "code",
   "execution_count": null,
   "metadata": {},
   "outputs": [],
   "source": [
    "list1 = []\n",
    "list1 = [item for item in input(\"Enter the list items : \").split()]\n",
    "list2 = []\n",
    "list2 = [item for item in input(\"Enter the list items : \").split()]\n",
    "list3 = list1 + list2\n",
    "list3.sort()\n",
    "print(list3)"
   ]
  },
  {
   "cell_type": "code",
   "execution_count": 53,
   "metadata": {},
   "outputs": [
    {
     "name": "stdout",
     "output_type": "stream",
     "text": [
      "1 8 10 "
     ]
    }
   ],
   "source": [
    "list1 = []\n",
    "list1 = [item for item in input(\"Enter the list items : \").split()]\n",
    "e = input()\n",
    "for i in range(len(list1)):\n",
    "    if e==list1[i]:\n",
    "        print(i+1,end=' ')"
   ]
  },
  {
   "cell_type": "code",
   "execution_count": null,
   "metadata": {},
   "outputs": [],
   "source": [
    "list1 = []\n",
    "list1 = [item for item in input(\"Enter the list items : \").split()]\n",
    "n = int(input())\n",
    "list2 = list1[n+1:]+list1[:n+1]\n",
    "print(list2)"
   ]
  },
  {
   "cell_type": "code",
   "execution_count": null,
   "metadata": {},
   "outputs": [],
   "source": [
    "list1 = []\n",
    "list1 = [item for item in input(\"Enter the list items : \").split()]\n",
    "list2 = []\n",
    "for i in range(len(list1)):\n",
    "    if list1[i]>0:\n",
    "        list2.append(list1[i])\n",
    "print(sum(list2))"
   ]
  },
  {
   "cell_type": "code",
   "execution_count": null,
   "metadata": {},
   "outputs": [],
   "source": [
    "list1 = []\n",
    "list1 = [item for item in input(\"Enter the list items : \").split()]\n",
    "list2 = []\n",
    "for i in range(len(list1)):\n",
    "    if list1[i]<0:\n",
    "        list2.append(list1[i])\n",
    "print(sum(list2))"
   ]
  },
  {
   "cell_type": "code",
   "execution_count": null,
   "metadata": {},
   "outputs": [],
   "source": [
    "\n",
    "list1 = []\n",
    "list1 = [item for item in input(\"Enter the list items : \").split()]\n",
    "for i in range(len(list1)):\n",
    "    if str(list1[i])==str(list1[i]).reverse():\n",
    "        print(True)"
   ]
  },
  {
   "cell_type": "markdown",
   "metadata": {},
   "source": [
    "# Create Nested List"
   ]
  },
  {
   "cell_type": "code",
   "execution_count": null,
   "metadata": {},
   "outputs": [],
   "source": [
    "list1 = []\n",
    "list1 = [item for item in input(\"Enter the list items : \").split()]"
   ]
  },
  {
   "cell_type": "markdown",
   "metadata": {},
   "source": [
    "# Get Unique Elements in Order"
   ]
  },
  {
   "cell_type": "code",
   "execution_count": null,
   "metadata": {},
   "outputs": [],
   "source": [
    "\n",
    "list1 = []\n",
    "list1 = [item for item in input(\"Enter the list items : \").split()]\n",
    "list1 = list(dict.fromkeys(list1))\n",
    "print(list1)"
   ]
  }
 ],
 "metadata": {
  "kernelspec": {
   "display_name": "Python 3",
   "language": "python",
   "name": "python3"
  },
  "language_info": {
   "codemirror_mode": {
    "name": "ipython",
    "version": 3
   },
   "file_extension": ".py",
   "mimetype": "text/x-python",
   "name": "python",
   "nbconvert_exporter": "python",
   "pygments_lexer": "ipython3",
   "version": "3.12.7"
  }
 },
 "nbformat": 4,
 "nbformat_minor": 2
}
