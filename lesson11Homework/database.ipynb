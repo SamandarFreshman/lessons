{
 "cells": [
  {
   "cell_type": "code",
   "execution_count": 4,
   "metadata": {},
   "outputs": [],
   "source": [
    "from pyspark.sql import SparkSession\n",
    "\n",
    "spark = SparkSession.builder.appName('Demo').getOrCreate()"
   ]
  },
  {
   "cell_type": "code",
   "execution_count": 5,
   "metadata": {},
   "outputs": [
    {
     "data": {
      "text/html": [
       "\n",
       "            <div>\n",
       "                <p><b>SparkSession - in-memory</b></p>\n",
       "                \n",
       "        <div>\n",
       "            <p><b>SparkContext</b></p>\n",
       "\n",
       "            <p><a href=\"http://DESKTOP-8F6P7KP:4040\">Spark UI</a></p>\n",
       "\n",
       "            <dl>\n",
       "              <dt>Version</dt>\n",
       "                <dd><code>v3.5.3</code></dd>\n",
       "              <dt>Master</dt>\n",
       "                <dd><code>local[*]</code></dd>\n",
       "              <dt>AppName</dt>\n",
       "                <dd><code>Demo</code></dd>\n",
       "            </dl>\n",
       "        </div>\n",
       "        \n",
       "            </div>\n",
       "        "
      ],
      "text/plain": [
       "<pyspark.sql.session.SparkSession at 0x1e3cca67980>"
      ]
     },
     "execution_count": 5,
     "metadata": {},
     "output_type": "execute_result"
    }
   ],
   "source": [
    "spark"
   ]
  },
  {
   "cell_type": "code",
   "execution_count": 47,
   "metadata": {},
   "outputs": [],
   "source": [
    "fact = spark.read.csv('fact_internet_sales.csv', header = True, inferSchema = True)\n",
    "customer = spark.read.csv('dim_customer.csv', header = True, inferSchema = True)\n",
    "currency = spark.read.csv('dim_currency.csv', header = True, inferSchema = True)\n",
    "date = spark.read.csv('dim_date.csv', header = True, inferSchema = True)\n",
    "product = spark.read.csv('dim_product.csv', header = True, inferSchema = True)\n"
   ]
  },
  {
   "cell_type": "code",
   "execution_count": 51,
   "metadata": {},
   "outputs": [
    {
     "name": "stdout",
     "output_type": "stream",
     "text": [
      "+-----------+---------+----------+--------+---------+----------+-------------+------+------+--------------------+------------+-------------+---------------+------------+-------------------+\n",
      "|CustomerKey|FirstName|MiddleName|LastName|NameStyle| BirthDate|MaritalStatus|Suffix|Gender|        EmailAddress|YearlyIncome|TotalChildren|   AddressLine1|AddressLine2|              Phone|\n",
      "+-----------+---------+----------+--------+---------+----------+-------------+------+------+--------------------+------------+-------------+---------------+------------+-------------------+\n",
      "|      11000|      Jon|         V|    Yang|    false|1971-10-06|            M|  NULL|     M|jon24@adventure-w...|     90000.0|            2|3761 N. 14th St|        NULL|1 (11) 500 555-0162|\n",
      "+-----------+---------+----------+--------+---------+----------+-------------+------+------+--------------------+------------+-------------+---------------+------------+-------------------+\n",
      "only showing top 1 row\n",
      "\n"
     ]
    }
   ],
   "source": [
    "customer.show(1)"
   ]
  },
  {
   "cell_type": "code",
   "execution_count": 52,
   "metadata": {},
   "outputs": [
    {
     "name": "stdout",
     "output_type": "stream",
     "text": [
      "+-----------+--------------------+------------+\n",
      "|CurrencyKey|CurrencyAlternateKey|CurrencyName|\n",
      "+-----------+--------------------+------------+\n",
      "|          1|                 AFA|     Afghani|\n",
      "+-----------+--------------------+------------+\n",
      "only showing top 1 row\n",
      "\n"
     ]
    }
   ],
   "source": [
    "currency.show(1)"
   ]
  },
  {
   "cell_type": "code",
   "execution_count": 53,
   "metadata": {},
   "outputs": [
    {
     "name": "stdout",
     "output_type": "stream",
     "text": [
      "+----------+-------------------+------------------+------------------+-----+---------+----+------+-----------------+-------+\n",
      "|ProductKey|ProductAlternateKey|EnglishProductName|SpanishProductName|Color|ListPrice|Size|Weight|DaysToManufacture| Status|\n",
      "+----------+-------------------+------------------+------------------+-----+---------+----+------+-----------------+-------+\n",
      "|         1|            AR-5381|   Adjustable Race|              NULL|   NA|     NULL|NULL|  NULL|                0|Current|\n",
      "+----------+-------------------+------------------+------------------+-----+---------+----+------+-----------------+-------+\n",
      "only showing top 1 row\n",
      "\n"
     ]
    }
   ],
   "source": [
    "product.show(1)"
   ]
  },
  {
   "cell_type": "code",
   "execution_count": 54,
   "metadata": {},
   "outputs": [
    {
     "name": "stdout",
     "output_type": "stream",
     "text": [
      "+--------+--------------------+---------------+--------------------+--------------------+----------------+---------------+----------------+----------------+----------------+-----------------+---------------+------------+----------------+-------------+----------+--------------+\n",
      "| DateKey|FullDateAlternateKey|DayNumberOfWeek|EnglishDayNameOfWeek|SpanishDayNameOfWeek|DayNumberOfMonth|DayNumberOfYear|WeekNumberOfYear|EnglishMonthName|SpanishMonthName|MonthNumberOfYear|CalendarQuarter|CalendarYear|CalendarSemester|FiscalQuarter|FiscalYear|FiscalSemester|\n",
      "+--------+--------------------+---------------+--------------------+--------------------+----------------+---------------+----------------+----------------+----------------+-----------------+---------------+------------+----------------+-------------+----------+--------------+\n",
      "|20050101|          2005-01-01|              7|            Saturday|              Sábado|               1|              1|               1|         January|           Enero|                1|              1|        2005|               1|            3|      2005|             2|\n",
      "+--------+--------------------+---------------+--------------------+--------------------+----------------+---------------+----------------+----------------+----------------+-----------------+---------------+------------+----------------+-------------+----------+--------------+\n",
      "only showing top 1 row\n",
      "\n"
     ]
    }
   ],
   "source": [
    "date.show(1)"
   ]
  },
  {
   "cell_type": "code",
   "execution_count": 48,
   "metadata": {},
   "outputs": [],
   "source": [
    "fact = fact.withColumnRenamed('OrderDateKey','DateKey')"
   ]
  },
  {
   "cell_type": "code",
   "execution_count": 49,
   "metadata": {},
   "outputs": [],
   "source": [
    "FactInternetSales = (\n",
    "fact\n",
    ".join(customer,on='CustomerKey',how = 'inner')\n",
    ".join(product,on='ProductKey',how = 'inner')\n",
    ".join(date,on='DateKey',how = 'inner')\n",
    ".join(currency,on='CurrencyKey',how = 'inner')\n",
    ")"
   ]
  },
  {
   "cell_type": "code",
   "execution_count": 50,
   "metadata": {},
   "outputs": [],
   "source": [
    "from pyspark.sql import functions as fn"
   ]
  },
  {
   "cell_type": "code",
   "execution_count": 69,
   "metadata": {},
   "outputs": [],
   "source": [
    "Filtered = (\n",
    "FactInternetSales\n",
    ".filter(FactInternetSales['color'] == 'Silver')\n",
    ".filter(FactInternetSales['EnglishDayNameOfWeek'] == 'Sunday')\n",
    ".filter(FactInternetSales['Size'].isNotNull())\n",
    ".filter(FactInternetSales['Weight'] > 10)\n",
    ".filter(FactInternetSales['YearlyIncome']>100000.0)\n",
    ".filter(FactInternetSales['TotalChildren']>1)\n",
    ")"
   ]
  },
  {
   "cell_type": "code",
   "execution_count": 77,
   "metadata": {},
   "outputs": [
    {
     "name": "stdout",
     "output_type": "stream",
     "text": [
      "+-----------+--------+----------+-----------+-------------+---------+--------------+--------------------+--------------+-------------------+----------------+-----------+--------+-------+---------+----------+---------+---------+----------+-------------+------+------+--------------------+------------+-------------+--------------------+------------+-------------------+-------------------+--------------------+--------------------+------+---------+----+------+-----------------+-------+--------------------+---------------+--------------------+--------------------+----------------+---------------+----------------+----------------+----------------+-----------------+---------------+------------+----------------+-------------+----------+--------------+--------------------+--------------------+\n",
      "|CurrencyKey| DateKey|ProductKey|CustomerKey|OrderQuantity|UnitPrice|ExtendedAmount|UnitPriceDiscountPct|DiscountAmount|ProductStandardCost|TotalProductCost|SalesAmount|  TaxAmt|Freight|FirstName|MiddleName| LastName|NameStyle| BirthDate|MaritalStatus|Suffix|Gender|        EmailAddress|YearlyIncome|TotalChildren|        AddressLine1|AddressLine2|              Phone|ProductAlternateKey|  EnglishProductName|  SpanishProductName| Color|ListPrice|Size|Weight|DaysToManufacture| Status|FullDateAlternateKey|DayNumberOfWeek|EnglishDayNameOfWeek|SpanishDayNameOfWeek|DayNumberOfMonth|DayNumberOfYear|WeekNumberOfYear|EnglishMonthName|SpanishMonthName|MonthNumberOfYear|CalendarQuarter|CalendarYear|CalendarSemester|FiscalQuarter|FiscalYear|FiscalSemester|CurrencyAlternateKey|        CurrencyName|\n",
      "+-----------+--------+----------+-----------+-------------+---------+--------------+--------------------+--------------+-------------------+----------------+-----------+--------+-------+---------+----------+---------+---------+----------+-------------+------+------+--------------------+------------+-------------+--------------------+------------+-------------------+-------------------+--------------------+--------------------+------+---------+----+------+-----------------+-------+--------------------+---------------+--------------------+--------------------+----------------+---------------+----------------+----------------+----------------+-----------------+---------------+------------+----------------+-------------+----------+--------------+--------------------+--------------------+\n",
      "|         98|20110227|       344|      11240|            1|  3399.99|       3399.99|                 0.0|           0.0|          1912.1544|       1912.1544|    3399.99|271.9992|84.9998|     Anne|         B|Hernandez|    false|1964-06-09|            M|  NULL|     F|anne4@adventure-w...|    160000.0|            2|    76 Woodcrest Dr.|        NULL|1 (11) 500 555-0119|         BK-M82S-38|Mountain-100 Silv...|Montaña: 100, pla...|Silver|  3399.99|  38| 20.35|                4|   NULL|          2011-02-27|              1|              Sunday|             Domingo|              27|             58|              10|        February|         Febrero|                2|              1|        2011|               1|            3|      2010|             2|                 GBP|United Kingdom Pound|\n",
      "|          6|20110717|       347|      11456|            1|  3399.99|       3399.99|                 0.0|           0.0|          1912.1544|       1912.1544|    3399.99|271.9992|84.9998|      Jon|         C|      Gao|    false|1980-01-05|            M|  NULL|     M|jon35@adventure-w...|    120000.0|            5|    6455 Garnet Lane|        NULL|1 (11) 500 555-0136|         BK-M82S-48|Mountain-100 Silv...|Montaña: 100, pla...|Silver|  3399.99|  48| 21.42|                4|   NULL|          2011-07-17|              1|              Sunday|             Domingo|              17|            198|              30|            July|           Julio|                7|              3|        2011|               2|            1|      2011|             1|                 AUD|   Australian Dollar|\n",
      "|        100|20111009|       347|      11249|            1|  3399.99|       3399.99|                 0.0|           0.0|          1912.1544|       1912.1544|    3399.99|271.9992|84.9998|    Cindy|         A|    Patel|    false|1966-07-09|            M|  NULL|     F|cindy3@adventure-...|    130000.0|            3|  Essener Straße 123|        NULL|1 (11) 500 555-0149|         BK-M82S-48|Mountain-100 Silv...|Montaña: 100, pla...|Silver|  3399.99|  48| 21.42|                4|   NULL|          2011-10-09|              1|              Sunday|             Domingo|               9|            282|              42|         October|         Octubre|               10|              4|        2011|               2|            2|      2011|             1|                 USD|           US Dollar|\n",
      "|        100|20111204|       344|      26107|            1|  3399.99|       3399.99|                 0.0|           0.0|          1912.1544|       1912.1544|    3399.99|271.9992|84.9998|   Alexis|      NULL|   Thomas|    false|1965-10-10|            M|  NULL|     F|alexis10@adventur...|    130000.0|            4|   6987 Buchanan Ct.|        NULL|       150-555-0131|         BK-M82S-38|Mountain-100 Silv...|Montaña: 100, pla...|Silver|  3399.99|  38| 20.35|                4|   NULL|          2011-12-04|              1|              Sunday|             Domingo|               4|            338|              50|        December|       Diciembre|               12|              4|        2011|               2|            2|      2011|             1|                 USD|           US Dollar|\n",
      "|         98|20121230|       355|      11240|            1|  2319.99|       2319.99|                 0.0|           0.0|          1265.6195|       1265.6195|    2319.99|185.5992|57.9998|     Anne|         B|Hernandez|    false|1964-06-09|            M|  NULL|     F|anne4@adventure-w...|    160000.0|            2|    76 Woodcrest Dr.|        NULL|1 (11) 500 555-0119|         BK-M68S-42|Mountain-200 Silv...|Montaña: 200, pla...|Silver|  2319.99|  42| 23.77|                4|Current|          2012-12-30|              1|              Sunday|             Domingo|              30|            365|              53|        December|       Diciembre|               12|              4|        2012|               2|            2|      2012|             1|                 GBP|United Kingdom Pound|\n",
      "|         98|20130120|       355|      11244|            1|  2319.99|       2319.99|                 0.0|           0.0|          1265.6195|       1265.6195|    2319.99|185.5992|57.9998|   Alexis|         M|  Coleman|    false|1968-11-22|            S|  NULL|     F|alexis28@adventur...|    170000.0|            2| 7140 Camelback Road|        NULL|1 (11) 500 555-0115|         BK-M68S-42|Mountain-200 Silv...|Montaña: 200, pla...|Silver|  2319.99|  42| 23.77|                4|Current|          2013-01-20|              1|              Sunday|             Domingo|              20|             20|               4|         January|           Enero|                1|              1|        2013|               1|            3|      2012|             2|                 GBP|United Kingdom Pound|\n",
      "|         98|20130210|       355|      12123|            1|  2319.99|       2319.99|                 0.0|           0.0|          1265.6195|       1265.6195|    2319.99|185.5992|57.9998|   Wesley|         A|    Liang|    false|1963-12-12|            M|  NULL|     M|wesley16@adventur...|    170000.0|            2|6048 Nightingale ...|        NULL|1 (11) 500 555-0143|         BK-M68S-42|Mountain-200 Silv...|Montaña: 200, pla...|Silver|  2319.99|  42| 23.77|                4|Current|          2013-02-10|              1|              Sunday|             Domingo|              10|             41|               7|        February|         Febrero|                2|              1|        2013|               1|            3|      2012|             2|                 GBP|United Kingdom Pound|\n",
      "|        100|20130310|       357|      12188|            1|  2319.99|       2319.99|                 0.0|           0.0|          1265.6195|       1265.6195|    2319.99|185.5992|57.9998|   Ashley|         J|   Thomas|    false|1965-11-20|            S|  NULL|     F|ashley11@adventur...|    110000.0|            3|    5071 Almaden Dr.|        NULL|       190-555-0190|         BK-M68S-46|Mountain-200 Silv...|Montaña: 200, pla...|Silver|  2319.99|  46| 24.13|                4|Current|          2013-03-10|              1|              Sunday|             Domingo|              10|             69|              11|           March|           Marzo|                3|              1|        2013|               1|            3|      2012|             2|                 USD|           US Dollar|\n",
      "|         98|20130317|       353|      12133|            1|  2319.99|       2319.99|                 0.0|           0.0|          1265.6195|       1265.6195|    2319.99|185.5992|57.9998|  Colleen|         C|      Xie|    false|1961-06-24|            M|  NULL|     F|colleen27@adventu...|    130000.0|            3|       8976 E Leland|        NULL|1 (11) 500 555-0175|         BK-M68S-38|Mountain-200 Silv...|Montaña: 200, pla...|Silver|  2319.99|  38| 23.35|                4|Current|          2013-03-17|              1|              Sunday|             Domingo|              17|             76|              12|           March|           Marzo|                3|              1|        2013|               1|            3|      2012|             2|                 GBP|United Kingdom Pound|\n",
      "|         19|20130317|       357|      12710|            1|  2319.99|       2319.99|                 0.0|           0.0|          1265.6195|       1265.6195|    2319.99|185.5992|57.9998|   Dalton|         E|    Evans|    false|1946-12-17|            S|  NULL|     M|dalton43@adventur...|    170000.0|            2|        3601 Stinson|          #7|       251-555-0135|         BK-M68S-46|Mountain-200 Silv...|Montaña: 200, pla...|Silver|  2319.99|  46| 24.13|                4|Current|          2013-03-17|              1|              Sunday|             Domingo|              17|             76|              12|           March|           Marzo|                3|              1|        2013|               1|            3|      2012|             2|                 CAD|     Canadian Dollar|\n",
      "+-----------+--------+----------+-----------+-------------+---------+--------------+--------------------+--------------+-------------------+----------------+-----------+--------+-------+---------+----------+---------+---------+----------+-------------+------+------+--------------------+------------+-------------+--------------------+------------+-------------------+-------------------+--------------------+--------------------+------+---------+----+------+-----------------+-------+--------------------+---------------+--------------------+--------------------+----------------+---------------+----------------+----------------+----------------+-----------------+---------------+------------+----------------+-------------+----------+--------------+--------------------+--------------------+\n",
      "only showing top 10 rows\n",
      "\n"
     ]
    }
   ],
   "source": [
    "Filtered.show(10)"
   ]
  },
  {
   "cell_type": "code",
   "execution_count": 85,
   "metadata": {},
   "outputs": [],
   "source": [
    "Aggregations = (\n",
    "Filtered\n",
    ".groupBy('CustomerKey','FirstName')\n",
    ".agg(fn.sum('TaxAmt'),fn.mean('SalesAmount'),fn.mean('TotalProductCost'))\n",
    ".withColumnRenamed('sum(TaxAmt)','TotalTaxAmt')\n",
    ".withColumnRenamed('avg(SalesAmount)','AverageSalesAmount')\n",
    ".withColumnRenamed('avg(TotalProductCost)','AverageTotalProductCost')\n",
    ")"
   ]
  },
  {
   "cell_type": "code",
   "execution_count": 86,
   "metadata": {},
   "outputs": [
    {
     "name": "stdout",
     "output_type": "stream",
     "text": [
      "+-----------+---------+-----------+------------------+-----------------------+\n",
      "|CustomerKey|FirstName|TotalTaxAmt|AverageSalesAmount|AverageTotalProductCost|\n",
      "+-----------+---------+-----------+------------------+-----------------------+\n",
      "|      12637|  Leonard|   185.5992|           2319.99|              1265.6195|\n",
      "|      18953|      Mya|    61.5592|            769.49|               419.7784|\n",
      "|      15194|     Erik|   185.5992|           2319.99|              1265.6195|\n",
      "|      12364|     Erin|   185.5992|           2319.99|              1265.6195|\n",
      "|      15100|   Brenda|   185.5992|           2319.99|              1265.6195|\n",
      "|      13658|    Wyatt|   185.5992|           2319.99|              1265.6195|\n",
      "|      13278|    Jorge|   185.5992|           2319.99|              1265.6195|\n",
      "|      19057|   Joanna|   185.5992|           2319.99|              1265.6195|\n",
      "|      11249|    Cindy|   271.9992|           3399.99|              1912.1544|\n",
      "|      13263|     Kate|   185.5992|           2319.99|              1265.6195|\n",
      "+-----------+---------+-----------+------------------+-----------------------+\n",
      "only showing top 10 rows\n",
      "\n"
     ]
    }
   ],
   "source": [
    "Aggregations.show(10)"
   ]
  },
  {
   "cell_type": "code",
   "execution_count": 87,
   "metadata": {},
   "outputs": [],
   "source": [
    "Sorted = (\n",
    "    Aggregations\n",
    "    .orderBy(fn.col('FirstName'))\n",
    ")"
   ]
  },
  {
   "cell_type": "code",
   "execution_count": 88,
   "metadata": {},
   "outputs": [
    {
     "name": "stdout",
     "output_type": "stream",
     "text": [
      "+-----------+---------+------------------+------------------+-----------------------+\n",
      "|CustomerKey|FirstName|       TotalTaxAmt|AverageSalesAmount|AverageTotalProductCost|\n",
      "+-----------+---------+------------------+------------------+-----------------------+\n",
      "|      13581|   Albert|          185.5992|           2319.99|              1265.6195|\n",
      "|      26107|   Alexis|          271.9992|           3399.99|              1912.1544|\n",
      "|      11244|   Alexis|          185.5992|           2319.99|              1265.6195|\n",
      "|      16623|   Andres|          185.5992|           2319.99|              1265.6195|\n",
      "|      18131|      Ann|          185.5992|           2319.99|              1265.6195|\n",
      "|      11240|     Anne|457.59839999999997|           2859.99|             1588.88695|\n",
      "|      12188|   Ashley|          185.5992|           2319.99|              1265.6195|\n",
      "|      17536| Benjamin|          185.5992|           2319.99|              1265.6195|\n",
      "|      15100|   Brenda|          185.5992|           2319.99|              1265.6195|\n",
      "|      11249|    Cindy|          271.9992|           3399.99|              1912.1544|\n",
      "+-----------+---------+------------------+------------------+-----------------------+\n",
      "only showing top 10 rows\n",
      "\n"
     ]
    }
   ],
   "source": [
    "Sorted.show(10)"
   ]
  },
  {
   "cell_type": "code",
   "execution_count": 89,
   "metadata": {},
   "outputs": [],
   "source": [
    "FinalOutput = (\n",
    "    Sorted.drop(fn.col('CustomerKey'))\n",
    ")"
   ]
  },
  {
   "cell_type": "code",
   "execution_count": 90,
   "metadata": {},
   "outputs": [
    {
     "name": "stdout",
     "output_type": "stream",
     "text": [
      "+---------+------------------+------------------+-----------------------+\n",
      "|FirstName|       TotalTaxAmt|AverageSalesAmount|AverageTotalProductCost|\n",
      "+---------+------------------+------------------+-----------------------+\n",
      "|   Albert|          185.5992|           2319.99|              1265.6195|\n",
      "|   Alexis|          271.9992|           3399.99|              1912.1544|\n",
      "|   Alexis|          185.5992|           2319.99|              1265.6195|\n",
      "|   Andres|          185.5992|           2319.99|              1265.6195|\n",
      "|      Ann|          185.5992|           2319.99|              1265.6195|\n",
      "|     Anne|457.59839999999997|           2859.99|             1588.88695|\n",
      "|   Ashley|          185.5992|           2319.99|              1265.6195|\n",
      "| Benjamin|          185.5992|           2319.99|              1265.6195|\n",
      "|   Brenda|          185.5992|           2319.99|              1265.6195|\n",
      "|    Cindy|          271.9992|           3399.99|              1912.1544|\n",
      "+---------+------------------+------------------+-----------------------+\n",
      "only showing top 10 rows\n",
      "\n"
     ]
    }
   ],
   "source": [
    "FinalOutput.show(10)"
   ]
  }
 ],
 "metadata": {
  "kernelspec": {
   "display_name": "Python 3",
   "language": "python",
   "name": "python3"
  },
  "language_info": {
   "codemirror_mode": {
    "name": "ipython",
    "version": 3
   },
   "file_extension": ".py",
   "mimetype": "text/x-python",
   "name": "python",
   "nbconvert_exporter": "python",
   "pygments_lexer": "ipython3",
   "version": "3.12.7"
  }
 },
 "nbformat": 4,
 "nbformat_minor": 2
}
